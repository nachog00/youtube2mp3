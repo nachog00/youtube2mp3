{
 "cells": [
  {
   "cell_type": "markdown",
   "metadata": {},
   "source": [
    "## Youtube 2 Mp3\n",
    "The aim of this notebook is to test out some functions regarding automatic youtube video downloading into mp3 files, as well as moving those files into external drives"
   ]
  },
  {
   "cell_type": "code",
   "execution_count": 1,
   "metadata": {},
   "outputs": [],
   "source": [
    "import os\n",
    "import subprocess\n",
    "import time\n",
    "import flask\n",
    "import requests\n",
    "import pytube"
   ]
  },
  {
   "cell_type": "markdown",
   "metadata": {},
   "source": [
    "### Download the video"
   ]
  },
  {
   "cell_type": "code",
   "execution_count": 10,
   "metadata": {},
   "outputs": [],
   "source": [
    "import sys\n",
    "\n",
    "def progress_function(chunk, file_handle, bytes_remaining):\n",
    "    global filesize\n",
    "    current = ((filesize - bytes_remaining)/filesize)\n",
    "    percent = ('{0:.1f}').format(current*100)\n",
    "    progress = int(50*current)\n",
    "    status = '█' * progress + '-' * (50 - progress)\n",
    "    sys.stdout.write(' ↳ |{bar}| {percent}%\\r'.format(bar=status, percent=percent))\n",
    "    sys.stdout.flush()\n",
    "\n",
    "def download_youtube_video_as_mp3(url):\n",
    "  # create a directory called 'media' if it doesn't exist\n",
    "  if not os.path.exists('media'):\n",
    "    os.makedirs('media')\n",
    "  \n",
    "  # download the youtube video\n",
    "  youtube = pytube.YouTube(url)\n",
    "  video = youtube.streams.filter(only_audio=True).first()\n",
    "  video_size = video.filesize\n",
    "  video_path = os.path.join('media', video.default_filename)\n",
    "  video.on_success = progress_function\n",
    "  print('Downloading: {}'.format(video.default_filename))\n",
    "  video.download('media/', filename=video.default_filename)\n",
    "  \n",
    "  # convert the video to mp3\n",
    "  mp3_path = os.path.join('media', video.default_filename.replace('.mp4', '.mp3'))\n",
    "  subprocess.run(['ffmpeg', '-i', video_path, mp3_path])\n",
    "  \n",
    "  # delete the original video file\n",
    "  os.remove(video_path)\n",
    "\n",
    "  # print the downloaded confirmatio\n",
    "  print('Downloaded: {}'.format(video.default_filename))\n",
    "\n",
    "  # return the file name of the mp3\n",
    "  return os.path.basename(mp3_path)\n"
   ]
  },
  {
   "cell_type": "code",
   "execution_count": 3,
   "metadata": {},
   "outputs": [],
   "source": [
    "# download_youtube_video_as_mp3('https://www.youtube.com/watch?v=NmVrnZAAklU&t=1714s')\n",
    "# this works great!"
   ]
  },
  {
   "cell_type": "markdown",
   "metadata": {},
   "source": [
    "### Move it to the external drive"
   ]
  },
  {
   "cell_type": "code",
   "execution_count": 4,
   "metadata": {},
   "outputs": [],
   "source": [
    "import shutil\n",
    "\n",
    "def move_file_to_external_drive(file_name):\n",
    "    # get the full path of the file\n",
    "    file_path = os.path.join('media', file_name)\n",
    "    \n",
    "    # cut the file name from the path\n",
    "    file_name = os.path.basename(file_path)\n",
    "    \n",
    "    # define the destination path in the external drive\n",
    "    external_drive_path = 'D:'\n",
    "    if os.path.exists(external_drive_path):\n",
    "        destination_path = os.path.join(external_drive_path, file_name)\n",
    "        # move the file to the external drive\n",
    "        shutil.move(file_path, destination_path)\n",
    "        print(f\"File '{file_name}' moved to external drive.\")\n",
    "    else:\n",
    "        print(f\"External drive not found at '{external_drive_path}'. File '{file_name}' not moved.\")\n"
   ]
  },
  {
   "cell_type": "code",
   "execution_count": 5,
   "metadata": {},
   "outputs": [],
   "source": [
    "# move_file_to_external_drive('Never Gonna Give You Up.mp3')\n",
    "# it works!"
   ]
  },
  {
   "cell_type": "markdown",
   "metadata": {},
   "source": [
    "# Download and move to external drive"
   ]
  },
  {
   "cell_type": "code",
   "execution_count": 12,
   "metadata": {},
   "outputs": [],
   "source": [
    "def download_and_store_mp3(url=None):\n",
    "    try:\n",
    "        if url is None:\n",
    "            url = input(\"Enter the YouTube video URL: \")\n",
    "        mp3_file_name = download_youtube_video_as_mp3(url)\n",
    "        move_file_to_external_drive(mp3_file_name)\n",
    "        return mp3_file_name\n",
    "    except pytube.exceptions.RegexMatchError:\n",
    "        print(\"Invalid YouTube video URL. Please enter a valid URL.\")\n",
    "    except pytube.exceptions.VideoUnavailable:\n",
    "        print(\"The requested video is unavailable. Please try again later.\")\n",
    "    except pytube.exceptions.ExtractError:\n",
    "        print(\"An error occurred while extracting the video. Please try again later.\")\n",
    "    except pytube.exceptions.VideoPrivate:\n",
    "        print(\"The requested video is private. Please provide a video that is not private.\")\n",
    "    except Exception as e:\n",
    "        print(f\"An error occurred: {e}\")\n"
   ]
  },
  {
   "cell_type": "code",
   "execution_count": 13,
   "metadata": {},
   "outputs": [
    {
     "name": "stdout",
     "output_type": "stream",
     "text": [
      "Downloading: Never Gonna Give You Up.mp4\n",
      "Downloaded: Never Gonna Give You Up.mp4\n",
      "File 'Never Gonna Give You Up.mp3' moved to external drive.\n"
     ]
    },
    {
     "data": {
      "text/plain": [
       "'Never Gonna Give You Up.mp3'"
      ]
     },
     "execution_count": 13,
     "metadata": {},
     "output_type": "execute_result"
    }
   ],
   "source": [
    "download_and_store_mp3('https://www.youtube.com/watch?v=dQw4w9WgXcQ')\n",
    "#  okay its working"
   ]
  },
  {
   "cell_type": "code",
   "execution_count": 9,
   "metadata": {},
   "outputs": [],
   "source": [
    "# download_and_store_mp3()"
   ]
  },
  {
   "cell_type": "markdown",
   "metadata": {},
   "source": [
    "## Batch inputs\n",
    "Takes a list of youtube links and downloads them into mp3 files, then moves them to the external drive"
   ]
  },
  {
   "cell_type": "code",
   "execution_count": 16,
   "metadata": {},
   "outputs": [],
   "source": [
    "def download_and_store_mp3_batch(urls):\n",
    "    total_files = len(urls)\n",
    "    downloaded_files = 0\n",
    "    for url in urls:\n",
    "        try:\n",
    "            mp3_file_name = download_and_store_mp3(url)\n",
    "            downloaded_files += 1\n",
    "            print(f\"({downloaded_files}/{total_files} files downloaded)\")\n",
    "        except pytube.exceptions.RegexMatchError:\n",
    "            print(f\"Invalid YouTube video URL '{url}'. Skipping...\")\n",
    "        except pytube.exceptions.VideoUnavailable:\n",
    "            print(f\"The requested video '{url}' is unavailable. Skipping...\")\n",
    "        except pytube.exceptions.ExtractError:\n",
    "            print(f\"An error occurred while extracting the video '{url}'. Skipping...\")\n",
    "        except pytube.exceptions.VideoPrivate:\n",
    "            print(f\"The requested video '{url}' is private. Skipping...\")\n",
    "        except Exception as e:\n",
    "            print(f\"An error occurred while processing the video '{url}': {e}. Skipping...\")\n"
   ]
  },
  {
   "cell_type": "code",
   "execution_count": 17,
   "metadata": {},
   "outputs": [
    {
     "name": "stdout",
     "output_type": "stream",
     "text": [
      "Downloading: Never Gonna Give You Up.mp4\n",
      "Downloaded: Never Gonna Give You Up.mp4\n",
      "File 'Never Gonna Give You Up.mp3' moved to external drive.\n",
      "(1/2 files downloaded)\n",
      "Downloading: Im Still Standing.mp4\n",
      "Downloaded: Im Still Standing.mp4\n",
      "File 'Im Still Standing.mp3' moved to external drive.\n",
      "(2/2 files downloaded)\n"
     ]
    }
   ],
   "source": [
    "# urls = ['https://www.youtube.com/watch?v=dQw4w9WgXcQ', 'https://www.youtube.com/watch?v=ZHwVBirqD2s']\n",
    "# download_and_store_mp3_batch(urls)\n",
    "# it works!"
   ]
  },
  {
   "cell_type": "code",
   "execution_count": 23,
   "metadata": {},
   "outputs": [],
   "source": [
    "import ipywidgets as widgets\n",
    "from IPython.display import display\n",
    "\n",
    "def download_and_store_mp3_ui():\n",
    "    # create a text area for the user to input the URLs\n",
    "    urls_textarea = widgets.Textarea(\n",
    "        placeholder='Enter YouTube video URLs, one per line',\n",
    "        description='YouTube URLs:',\n",
    "        layout=widgets.Layout(width='100%', height='200px')\n",
    "    )\n",
    "    \n",
    "    # create a button to start the download process\n",
    "    download_button = widgets.Button(description='Download and store mp3 files')\n",
    "    \n",
    "    # create an output area to display the progress and results\n",
    "    output_area = widgets.Output()\n",
    "    \n",
    "    # define the function to be called when the download button is clicked\n",
    "    def on_download_button_clicked(b):\n",
    "        # get the URLs from the text area\n",
    "        urls = urls_textarea.value.split('\\n').filter(lambda url: url)\n",
    "        \n",
    "        # download and store the mp3 files\n",
    "        download_and_store_mp3_batch(urls)\n",
    "    \n",
    "    # attach the on_download_button_clicked function to the download button\n",
    "    download_button.on_click(on_download_button_clicked)\n",
    "    \n",
    "    # display the UI\n",
    "    display(widgets.VBox([urls_textarea, download_button, output_area]))\n"
   ]
  },
  {
   "cell_type": "code",
   "execution_count": 24,
   "metadata": {},
   "outputs": [
    {
     "data": {
      "application/vnd.jupyter.widget-view+json": {
       "model_id": "cb997e844c9642679592dcbe2f5a344a",
       "version_major": 2,
       "version_minor": 0
      },
      "text/plain": [
       "VBox(children=(Textarea(value='', description='YouTube URLs:', layout=Layout(height='200px', width='100%'), pl…"
      ]
     },
     "metadata": {},
     "output_type": "display_data"
    },
    {
     "ename": "AttributeError",
     "evalue": "'list' object has no attribute 'filter'",
     "output_type": "error",
     "traceback": [
      "\u001b[1;31m---------------------------------------------------------------------------\u001b[0m",
      "\u001b[1;31mAttributeError\u001b[0m                            Traceback (most recent call last)",
      "\u001b[1;32mc:\\Users\\ignac\\OneDrive\\Documents\\Proyectos\\Active\\youtube2mp3\\main.ipynb Cell 17\u001b[0m line \u001b[0;36mdownload_and_store_mp3_ui.<locals>.on_download_button_clicked\u001b[1;34m(b)\u001b[0m\n\u001b[0;32m     <a href='vscode-notebook-cell:/c%3A/Users/ignac/OneDrive/Documents/Proyectos/Active/youtube2mp3/main.ipynb#X30sZmlsZQ%3D%3D?line=18'>19</a>\u001b[0m \u001b[39mdef\u001b[39;00m \u001b[39mon_download_button_clicked\u001b[39m(b):\n\u001b[0;32m     <a href='vscode-notebook-cell:/c%3A/Users/ignac/OneDrive/Documents/Proyectos/Active/youtube2mp3/main.ipynb#X30sZmlsZQ%3D%3D?line=19'>20</a>\u001b[0m     \u001b[39m# get the URLs from the text area\u001b[39;00m\n\u001b[1;32m---> <a href='vscode-notebook-cell:/c%3A/Users/ignac/OneDrive/Documents/Proyectos/Active/youtube2mp3/main.ipynb#X30sZmlsZQ%3D%3D?line=20'>21</a>\u001b[0m     urls \u001b[39m=\u001b[39m urls_textarea\u001b[39m.\u001b[39;49mvalue\u001b[39m.\u001b[39;49msplit(\u001b[39m'\u001b[39;49m\u001b[39m\\n\u001b[39;49;00m\u001b[39m'\u001b[39;49m)\u001b[39m.\u001b[39;49mfilter(\u001b[39mlambda\u001b[39;00m url: url)\n\u001b[0;32m     <a href='vscode-notebook-cell:/c%3A/Users/ignac/OneDrive/Documents/Proyectos/Active/youtube2mp3/main.ipynb#X30sZmlsZQ%3D%3D?line=22'>23</a>\u001b[0m     \u001b[39m# download and store the mp3 files\u001b[39;00m\n\u001b[0;32m     <a href='vscode-notebook-cell:/c%3A/Users/ignac/OneDrive/Documents/Proyectos/Active/youtube2mp3/main.ipynb#X30sZmlsZQ%3D%3D?line=23'>24</a>\u001b[0m     download_and_store_mp3_batch(urls)\n",
      "\u001b[1;31mAttributeError\u001b[0m: 'list' object has no attribute 'filter'"
     ]
    }
   ],
   "source": [
    "download_and_store_mp3_ui()"
   ]
  },
  {
   "cell_type": "code",
   "execution_count": null,
   "metadata": {},
   "outputs": [],
   "source": []
  }
 ],
 "metadata": {
  "kernelspec": {
   "display_name": "base",
   "language": "python",
   "name": "python3"
  },
  "language_info": {
   "codemirror_mode": {
    "name": "ipython",
    "version": 3
   },
   "file_extension": ".py",
   "mimetype": "text/x-python",
   "name": "python",
   "nbconvert_exporter": "python",
   "pygments_lexer": "ipython3",
   "version": "3.9.12"
  }
 },
 "nbformat": 4,
 "nbformat_minor": 2
}
