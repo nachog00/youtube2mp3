{
 "cells": [
  {
   "cell_type": "markdown",
   "metadata": {},
   "source": [
    "## Youtube 2 Mp3\n",
    "The aim of this notebook is to test out some functions regarding automatic youtube video downloading into mp3 files, as well as moving those files into external drives"
   ]
  },
  {
   "cell_type": "code",
   "execution_count": 1,
   "metadata": {},
   "outputs": [],
   "source": [
    "import os\n",
    "import subprocess\n",
    "import time\n",
    "import flask\n",
    "import requests\n",
    "import pytube"
   ]
  },
  {
   "cell_type": "markdown",
   "metadata": {},
   "source": [
    "### Download the video"
   ]
  },
  {
   "cell_type": "code",
   "execution_count": 10,
   "metadata": {},
   "outputs": [],
   "source": [
    "import sys\n",
    "\n",
    "def progress_function(chunk, file_handle, bytes_remaining):\n",
    "    global filesize\n",
    "    current = ((filesize - bytes_remaining)/filesize)\n",
    "    percent = ('{0:.1f}').format(current*100)\n",
    "    progress = int(50*current)\n",
    "    status = '█' * progress + '-' * (50 - progress)\n",
    "    sys.stdout.write(' ↳ |{bar}| {percent}%\\r'.format(bar=status, percent=percent))\n",
    "    sys.stdout.flush()\n",
    "\n",
    "def download_youtube_video_as_mp3(url):\n",
    "  # create a directory called 'media' if it doesn't exist\n",
    "  if not os.path.exists('media'):\n",
    "    os.makedirs('media')\n",
    "  \n",
    "  # download the youtube video\n",
    "  youtube = pytube.YouTube(url)\n",
    "  video = youtube.streams.filter(only_audio=True).first()\n",
    "  video_size = video.filesize\n",
    "  video_path = os.path.join('media', video.default_filename)\n",
    "  video.on_success = progress_function\n",
    "  print('Downloading: {}'.format(video.default_filename))\n",
    "  video.download('media/', filename=video.default_filename)\n",
    "  \n",
    "  # convert the video to mp3\n",
    "  mp3_path = os.path.join('media', video.default_filename.replace('.mp4', '.mp3'))\n",
    "  subprocess.run(['ffmpeg', '-i', video_path, mp3_path])\n",
    "  \n",
    "  # delete the original video file\n",
    "  os.remove(video_path)\n",
    "\n",
    "  # print the downloaded confirmatio\n",
    "  print('Downloaded: {}'.format(video.default_filename))\n",
    "\n",
    "  # return the file name of the mp3\n",
    "  return os.path.basename(mp3_path)\n"
   ]
  },
  {
   "cell_type": "code",
   "execution_count": 3,
   "metadata": {},
   "outputs": [],
   "source": [
    "# download_youtube_video_as_mp3('https://www.youtube.com/watch?v=NmVrnZAAklU&t=1714s')\n",
    "# this works great!"
   ]
  },
  {
   "cell_type": "markdown",
   "metadata": {},
   "source": [
    "### Move it to the external drive"
   ]
  },
  {
   "cell_type": "code",
   "execution_count": 4,
   "metadata": {},
   "outputs": [],
   "source": [
    "import shutil\n",
    "\n",
    "def move_file_to_external_drive(file_name):\n",
    "    # get the full path of the file\n",
    "    file_path = os.path.join('media', file_name)\n",
    "    \n",
    "    # cut the file name from the path\n",
    "    file_name = os.path.basename(file_path)\n",
    "    \n",
    "    # define the destination path in the external drive\n",
    "    external_drive_path = 'D:'\n",
    "    if os.path.exists(external_drive_path):\n",
    "        destination_path = os.path.join(external_drive_path, file_name)\n",
    "        # move the file to the external drive\n",
    "        shutil.move(file_path, destination_path)\n",
    "        print(f\"File '{file_name}' moved to external drive.\")\n",
    "    else:\n",
    "        print(f\"External drive not found at '{external_drive_path}'. File '{file_name}' not moved.\")\n"
   ]
  },
  {
   "cell_type": "code",
   "execution_count": 5,
   "metadata": {},
   "outputs": [],
   "source": [
    "# move_file_to_external_drive('Never Gonna Give You Up.mp3')\n",
    "# it works!"
   ]
  },
  {
   "cell_type": "markdown",
   "metadata": {},
   "source": [
    "# Download and move to external drive"
   ]
  },
  {
   "cell_type": "code",
   "execution_count": 12,
   "metadata": {},
   "outputs": [],
   "source": [
    "def download_and_store_mp3(url=None):\n",
    "    try:\n",
    "        if url is None:\n",
    "            url = input(\"Enter the YouTube video URL: \")\n",
    "        mp3_file_name = download_youtube_video_as_mp3(url)\n",
    "        move_file_to_external_drive(mp3_file_name)\n",
    "        return mp3_file_name\n",
    "    except pytube.exceptions.RegexMatchError:\n",
    "        print(\"Invalid YouTube video URL. Please enter a valid URL.\")\n",
    "    except pytube.exceptions.VideoUnavailable:\n",
    "        print(\"The requested video is unavailable. Please try again later.\")\n",
    "    except pytube.exceptions.ExtractError:\n",
    "        print(\"An error occurred while extracting the video. Please try again later.\")\n",
    "    except pytube.exceptions.VideoPrivate:\n",
    "        print(\"The requested video is private. Please provide a video that is not private.\")\n",
    "    except Exception as e:\n",
    "        print(f\"An error occurred: {e}\")\n"
   ]
  },
  {
   "cell_type": "code",
   "execution_count": 13,
   "metadata": {},
   "outputs": [
    {
     "name": "stdout",
     "output_type": "stream",
     "text": [
      "Downloading: Never Gonna Give You Up.mp4\n",
      "Downloaded: Never Gonna Give You Up.mp4\n",
      "File 'Never Gonna Give You Up.mp3' moved to external drive.\n"
     ]
    },
    {
     "data": {
      "text/plain": [
       "'Never Gonna Give You Up.mp3'"
      ]
     },
     "execution_count": 13,
     "metadata": {},
     "output_type": "execute_result"
    }
   ],
   "source": [
    "download_and_store_mp3('https://www.youtube.com/watch?v=dQw4w9WgXcQ')\n",
    "#  okay its working"
   ]
  },
  {
   "cell_type": "code",
   "execution_count": 9,
   "metadata": {},
   "outputs": [],
   "source": [
    "# download_and_store_mp3()"
   ]
  },
  {
   "cell_type": "markdown",
   "metadata": {},
   "source": [
    "## Batch inputs\n",
    "Takes a list of youtube links and downloads them into mp3 files, then moves them to the external drive"
   ]
  },
  {
   "cell_type": "code",
   "execution_count": 16,
   "metadata": {},
   "outputs": [],
   "source": [
    "def download_and_store_mp3_batch(urls):\n",
    "    total_files = len(urls)\n",
    "    downloaded_files = 0\n",
    "    for url in urls:\n",
    "        try:\n",
    "            mp3_file_name = download_and_store_mp3(url)\n",
    "            downloaded_files += 1\n",
    "            print(f\"({downloaded_files}/{total_files} files downloaded)\")\n",
    "        except pytube.exceptions.RegexMatchError:\n",
    "            print(f\"Invalid YouTube video URL '{url}'. Skipping...\")\n",
    "        except pytube.exceptions.VideoUnavailable:\n",
    "            print(f\"The requested video '{url}' is unavailable. Skipping...\")\n",
    "        except pytube.exceptions.ExtractError:\n",
    "            print(f\"An error occurred while extracting the video '{url}'. Skipping...\")\n",
    "        except pytube.exceptions.VideoPrivate:\n",
    "            print(f\"The requested video '{url}' is private. Skipping...\")\n",
    "        except Exception as e:\n",
    "            print(f\"An error occurred while processing the video '{url}': {e}. Skipping...\")\n"
   ]
  },
  {
   "cell_type": "code",
   "execution_count": 17,
   "metadata": {},
   "outputs": [
    {
     "name": "stdout",
     "output_type": "stream",
     "text": [
      "Downloading: Never Gonna Give You Up.mp4\n",
      "Downloaded: Never Gonna Give You Up.mp4\n",
      "File 'Never Gonna Give You Up.mp3' moved to external drive.\n",
      "(1/2 files downloaded)\n",
      "Downloading: Im Still Standing.mp4\n",
      "Downloaded: Im Still Standing.mp4\n",
      "File 'Im Still Standing.mp3' moved to external drive.\n",
      "(2/2 files downloaded)\n"
     ]
    }
   ],
   "source": [
    "# urls = ['https://www.youtube.com/watch?v=dQw4w9WgXcQ', 'https://www.youtube.com/watch?v=ZHwVBirqD2s']\n",
    "# download_and_store_mp3_batch(urls)\n",
    "# it works!"
   ]
  },
  {
   "cell_type": "code",
   "execution_count": 25,
   "metadata": {},
   "outputs": [],
   "source": [
    "import ipywidgets as widgets\n",
    "from IPython.display import display\n",
    "\n",
    "def download_and_store_mp3_ui():\n",
    "    # create a text area for the user to input the URLs\n",
    "    urls_textarea = widgets.Textarea(\n",
    "        placeholder='Enter YouTube video URLs, one per line',\n",
    "        description='YouTube URLs:',\n",
    "        layout=widgets.Layout(width='100%', height='200px')\n",
    "    )\n",
    "    \n",
    "    # create a button to start the download process\n",
    "    download_button = widgets.Button(description='Download and store mp3 files')\n",
    "    \n",
    "    # create an output area to display the progress and results\n",
    "    output_area = widgets.Output()\n",
    "    \n",
    "    # define the function to be called when the download button is clicked\n",
    "    def on_download_button_clicked(b):\n",
    "        # get the URLs from the text area\n",
    "        urls = urls_textarea.value.split('\\n')\n",
    "        urls = [url for url in urls if url.strip()]  # skip empty lines\n",
    "        \n",
    "        # download and store the mp3 files\n",
    "        download_and_store_mp3_batch(urls)\n",
    "    \n",
    "    # attach the on_download_button_clicked function to the download button\n",
    "    download_button.on_click(on_download_button_clicked)\n",
    "    \n",
    "    # display the UI\n",
    "    display(widgets.VBox([urls_textarea, download_button, output_area]))\n"
   ]
  },
  {
   "cell_type": "code",
   "execution_count": 26,
   "metadata": {},
   "outputs": [
    {
     "data": {
      "application/vnd.jupyter.widget-view+json": {
       "model_id": "b9d33cd8a66741498d57ca024f11fb5b",
       "version_major": 2,
       "version_minor": 0
      },
      "text/plain": [
       "VBox(children=(Textarea(value='', description='YouTube URLs:', layout=Layout(height='200px', width='100%'), pl…"
      ]
     },
     "metadata": {},
     "output_type": "display_data"
    },
    {
     "name": "stdout",
     "output_type": "stream",
     "text": [
      "Downloading: Rocket Man (Official Music Video).mp4\n",
      "Downloaded: Rocket Man (Official Music Video).mp4\n",
      "File 'Rocket Man (Official Music Video).mp3' moved to external drive.\n",
      "(1/2 files downloaded)\n",
      "Downloading: Im Still Standing.mp4\n",
      "Downloaded: Im Still Standing.mp4\n",
      "File 'Im Still Standing.mp3' moved to external drive.\n",
      "(2/2 files downloaded)\n",
      "Downloading: Rocket Man (Official Music Video).mp4\n",
      "Downloaded: Rocket Man (Official Music Video).mp4\n",
      "File 'Rocket Man (Official Music Video).mp3' moved to external drive.\n",
      "(1/2 files downloaded)\n",
      "Downloading: Im Still Standing.mp4\n",
      "Downloaded: Im Still Standing.mp4\n",
      "File 'Im Still Standing.mp3' moved to external drive.\n",
      "(2/2 files downloaded)\n"
     ]
    }
   ],
   "source": [
    "download_and_store_mp3_ui()"
   ]
  },
  {
   "cell_type": "code",
   "execution_count": 42,
   "metadata": {},
   "outputs": [],
   "source": [
    "import os\n",
    "import ipywidgets as widgets\n",
    "from IPython.display import display\n",
    "\n",
    "def delete_mp3_files_ui():\n",
    "\n",
    "    mp3_dir = 'D:'\n",
    "\n",
    "    # get the list of mp3 files in the media directory\n",
    "    mp3_files = [f for f in os.listdir('D:') if f.endswith('.mp3')]\n",
    "    \n",
    "    # create a checkbox for each mp3 file\n",
    "    checkboxes = [widgets.Checkbox(description=f) for f in mp3_files]\n",
    "    \n",
    "    # create a button to delete the selected files\n",
    "    delete_button = widgets.Button(description='Delete selected files')\n",
    "    \n",
    "    # create an output area to display the progress and results\n",
    "    output_area = widgets.Output()\n",
    "    \n",
    "    # define the function to be called when the delete button is clicked\n",
    "    def on_delete_button_clicked(b):\n",
    "        # get the list of selected files\n",
    "        selected_files = [checkbox.description for checkbox in checkboxes if checkbox.value]\n",
    "        \n",
    "        # delete the selected files\n",
    "        for file_name in selected_files:\n",
    "            file_path = os.path.join(mp3_dir, file_name)\n",
    "            os.remove(file_path)\n",
    "            print(f\"File '{file_name}' deleted.\")\n",
    "\n",
    "    \n",
    "    # attach the on_delete_button_clicked function to the delete button\n",
    "    delete_button.on_click(on_delete_button_clicked)\n",
    "    \n",
    "    # display the UI\n",
    "    display(widgets.VBox([widgets.Label('Select the files to delete:')] + checkboxes + [delete_button, output_area]))\n"
   ]
  },
  {
   "cell_type": "code",
   "execution_count": 43,
   "metadata": {},
   "outputs": [
    {
     "data": {
      "application/vnd.jupyter.widget-view+json": {
       "model_id": "fff3bf5210d84e3ca70ef22c705410f6",
       "version_major": 2,
       "version_minor": 0
      },
      "text/plain": [
       "VBox(children=(Label(value='Select the files to delete:'), Checkbox(value=False, description='CRIES ALONE (Art…"
      ]
     },
     "metadata": {},
     "output_type": "display_data"
    }
   ],
   "source": [
    "delete_mp3_files_ui()"
   ]
  },
  {
   "cell_type": "code",
   "execution_count": 44,
   "metadata": {},
   "outputs": [
    {
     "name": "stdout",
     "output_type": "stream",
     "text": [
      " * Serving Flask app \"__main__\" (lazy loading)\n",
      " * Environment: production\n",
      "\u001b[31m   WARNING: This is a development server. Do not use it in a production deployment.\u001b[0m\n",
      "\u001b[2m   Use a production WSGI server instead.\u001b[0m\n",
      " * Debug mode: on\n"
     ]
    },
    {
     "name": "stderr",
     "output_type": "stream",
     "text": [
      " * Restarting with watchdog (windowsapi)\n"
     ]
    },
    {
     "ename": "SystemExit",
     "evalue": "1",
     "output_type": "error",
     "traceback": [
      "An exception has occurred, use %tb to see the full traceback.\n",
      "\u001b[1;31mSystemExit\u001b[0m\u001b[1;31m:\u001b[0m 1\n"
     ]
    },
    {
     "name": "stderr",
     "output_type": "stream",
     "text": [
      "c:\\ProgramData\\Anaconda3\\lib\\site-packages\\IPython\\core\\interactiveshell.py:3377: UserWarning: To exit: use 'exit', 'quit', or Ctrl-D.\n",
      "  warn(\"To exit: use 'exit', 'quit', or Ctrl-D.\", stacklevel=1)\n"
     ]
    }
   ],
   "source": [
    "import os\n",
    "import subprocess\n",
    "import shutil\n",
    "import pytube\n",
    "import flask\n",
    "import ipywidgets as widgets\n",
    "from IPython.display import display\n",
    "\n",
    "app = flask.Flask(__name__)\n",
    "\n",
    "@app.route('/', methods=['GET', 'POST'])\n",
    "def index():\n",
    "    if flask.request.method == 'POST':\n",
    "        # handle form submission\n",
    "        if 'delete_files' in flask.request.form:\n",
    "            # delete selected files\n",
    "            selected_files = flask.request.form.getlist('file')\n",
    "            for file_name in selected_files:\n",
    "                file_path = os.path.join('mp3_directory', file_name)\n",
    "                os.remove(file_path)\n",
    "            flask.flash(f\"{len(selected_files)} files deleted.\")\n",
    "        elif 'search_youtube' in flask.request.form:\n",
    "            # search YouTube for videos\n",
    "            query = flask.request.form['query']\n",
    "            videos = search_youtube(query)\n",
    "            return flask.render_template('index.html', videos=videos)\n",
    "        elif 'download_video' in flask.request.form:\n",
    "            # download selected video\n",
    "            video_url = flask.request.form['video_url']\n",
    "            download_and_store_mp3(video_url)\n",
    "            flask.flash(\"Video downloaded and stored as mp3.\")\n",
    "    # display the index page\n",
    "    files = os.listdir('mp3_directory')\n",
    "    return flask.render_template('index.html', files=files)\n",
    "\n",
    "def search_youtube(query):\n",
    "    # search YouTube for videos\n",
    "    videos = []\n",
    "    search_results = pytube.Search(query).results\n",
    "    for result in search_results:\n",
    "        if result.type == 'video':\n",
    "            videos.append({'title': result.title, 'url': result.watch_url})\n",
    "    return videos\n",
    "\n",
    "def download_and_store_mp3(url):\n",
    "    # create a directory called 'mp3_directory' if it doesn't exist\n",
    "    if not os.path.exists('mp3_directory'):\n",
    "        os.makedirs('mp3_directory')\n",
    "  \n",
    "    # download the youtube video\n",
    "    youtube = pytube.YouTube(url)\n",
    "    video = youtube.streams.filter(only_audio=True).first()\n",
    "    video_size = video.filesize\n",
    "    video_path = os.path.join('mp3_directory', video.default_filename)\n",
    "    video.on_progress = progress_function\n",
    "    print('Downloading: {}'.format(video.default_filename))\n",
    "    video.download('mp3_directory/', filename=video.default_filename)\n",
    "  \n",
    "    # convert the video to mp3\n",
    "    mp3_path = os.path.join('mp3_directory', video.default_filename.replace('.mp4', '.mp3'))\n",
    "    subprocess.run(['ffmpeg', '-i', video_path, mp3_path])\n",
    "  \n",
    "    # delete the original video file\n",
    "    os.remove(video_path)\n",
    "\n",
    "    # print the downloaded confirmation\n",
    "    print('Downloaded: {}'.format(video.default_filename))\n",
    "\n",
    "def progress_function(stream, chunk, bytes_remaining):\n",
    "    global filesize\n",
    "    current = ((filesize - bytes_remaining)/filesize)\n",
    "    percent = ('{0:.1f}').format(current*100)\n",
    "    progress = int(50*current)\n",
    "    status = '█' * progress + '-' * (50 - progress)\n",
    "    sys.stdout.write(' ↳ |{bar}| {percent}%\\r'.format(bar=status, percent=percent))\n",
    "    sys.stdout.flush()\n",
    "\n",
    "if __name__ == '__main__':\n",
    "    app.secret_key = 'super_secret_key'\n",
    "    app.run(debug=True)\n"
   ]
  },
  {
   "cell_type": "code",
   "execution_count": null,
   "metadata": {},
   "outputs": [],
   "source": []
  }
 ],
 "metadata": {
  "kernelspec": {
   "display_name": "base",
   "language": "python",
   "name": "python3"
  },
  "language_info": {
   "codemirror_mode": {
    "name": "ipython",
    "version": 3
   },
   "file_extension": ".py",
   "mimetype": "text/x-python",
   "name": "python",
   "nbconvert_exporter": "python",
   "pygments_lexer": "ipython3",
   "version": "3.9.12"
  }
 },
 "nbformat": 4,
 "nbformat_minor": 2
}
